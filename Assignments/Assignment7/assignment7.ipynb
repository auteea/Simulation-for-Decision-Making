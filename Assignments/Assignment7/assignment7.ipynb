{
 "cells": [
  {
   "cell_type": "markdown",
   "metadata": {},
   "source": [
    "<div class='bar_title'></div>\n",
    "\n",
    "*Simulation for Decision Making (S4DM)*\n",
    "\n",
    "# Assignment 7: Output Analysis (Multiple Model)\n",
    "\n",
    "Summer Semester 24\n",
    "\n",
    "\n",
    "Gunther Gust & Ignacio Ubeda <br>\n",
    "Chair for Enterprise AI <br>\n",
    "Data Driven Decisions Group <br>\n",
    "Center for Artificial Intelligence and Data Science (CAIDAS)"
   ]
  },
  {
   "cell_type": "markdown",
   "metadata": {},
   "source": [
    "<img src=\"images/d3.png\" style=\"width:20%; float:left;\" />"
   ]
  },
  {
   "cell_type": "markdown",
   "metadata": {},
   "source": [
    "<img src=\"images/CAIDASlogo.png\" style=\"width:20%; float:left;\" />"
   ]
  },
  {
   "cell_type": "markdown",
   "metadata": {},
   "source": [
    "# Agenda\n",
    "\n",
    "* Output Analysis (Multiple Model)\n",
    "* Metamodels\n"
   ]
  },
  {
   "cell_type": "code",
   "execution_count": null,
   "metadata": {},
   "outputs": [],
   "source": [
    "import simpy\n",
    "import numpy as np\n",
    "import pandas as pd\n",
    "import seaborn as sns\n",
    "from scipy import stats\n",
    "import matplotlib.pyplot as plt\n",
    "import statsmodels.formula.api as smf"
   ]
  },
  {
   "cell_type": "markdown",
   "metadata": {},
   "source": [
    "## Car wash example"
   ]
  },
  {
   "cell_type": "code",
   "execution_count": null,
   "metadata": {},
   "outputs": [],
   "source": [
    "class EventLogger:\n",
    "    def __init__(self):\n",
    "        self.logs = []\n",
    "        self.replication = None\n",
    "        self.seed = None\n",
    "        self.system_id = None #used to identify the system in the logs\n",
    "    \n",
    "    def set_system_id(self, system_id):\n",
    "        self.system_id = system_id\n",
    "\n",
    "    def set_replication_info(self, replication, seed):\n",
    "        self.replication = replication\n",
    "        self.seed = seed\n",
    "\n",
    "    def log_car_arrival(self, entity, time, interarrival_time):\n",
    "        self.logs.append({'system_id': self.system_id, #system info\n",
    "                          'replication_id': self.replication, 'seed': self.seed, #replication info\n",
    "                          'event_time': time, 'event_name': 'car_arrival', 'event_key': entity, #simulation info\n",
    "                          'interarrival_time': interarrival_time\n",
    "                          })\n",
    "    \n",
    "    def log_car_wash_request(self, entity, time, machine_id, processing_time):\n",
    "        self.logs.append({'system_id': self.system_id, #system info\n",
    "                          'replication_id': self.replication, 'seed': self.seed, #replication info\n",
    "                          'event_time': time, 'event_name': 'car_wash_request', 'event_key': entity, #simulation info\n",
    "                          'machine_id': machine_id, 'processing_time': processing_time\n",
    "                          })\n",
    "\n",
    "    def log_car_departure(self, entity, time):\n",
    "        self.logs.append({'system_id': self.system_id, #system info\n",
    "                          'replication_id': self.replication, 'seed': self.seed, #replication info\n",
    "                          'event_time': time, 'event_name': 'car_departure', 'event_key': entity #simulation info\n",
    "                          })\n",
    "\n",
    "    def get_logs_df(self):\n",
    "        return pd.DataFrame(self.logs)\n",
    "    \n",
    "    def dump_logs_df(self, filepath=None):\n",
    "        if filepath is None: \n",
    "            filepath = \"logs.csv\"\n",
    "\n",
    "        self.get_logs_df().to_csv(filepath, index=False)"
   ]
  },
  {
   "cell_type": "markdown",
   "metadata": {},
   "source": [
    "#### System 1"
   ]
  },
  {
   "cell_type": "markdown",
   "metadata": {},
   "source": [
    "2 Machines with a common queue"
   ]
  },
  {
   "cell_type": "code",
   "execution_count": null,
   "metadata": {},
   "outputs": [],
   "source": [
    "class Carwash_S1:\n",
    "    def __init__(self, env, logger, n_machines=2):\n",
    "        self.env = env\n",
    "        self.machine = simpy.Resource(env, n_machines)\n",
    "        self.logger = logger\n",
    "\n",
    "    def wash(self, processing_time):\n",
    "        yield self.env.timeout(processing_time)"
   ]
  },
  {
   "cell_type": "code",
   "execution_count": null,
   "metadata": {},
   "outputs": [],
   "source": [
    "class Car_S1:\n",
    "    def __init__(self, env, name, carwash, logger, interarrival_time, processing_time):\n",
    "        self.env = env\n",
    "        self.name = name\n",
    "        self.logger = logger\n",
    "        self.interarrival_time = interarrival_time\n",
    "        self.processing_time = processing_time\n",
    "\n",
    "        self.env.process(self.run(carwash))\n",
    "\n",
    "    def run(self, carwash):\n",
    "        \n",
    "        # Log the arrival\n",
    "        self.logger.log_car_arrival(self.name, self.env.now, self.interarrival_time)\n",
    "        with carwash.machine.request() as request:\n",
    "            yield request\n",
    "\n",
    "            # Log the request for car wash\n",
    "            self.logger.log_car_wash_request(self.name, self.env.now, 'unique_machine', self.processing_time)\n",
    "            yield self.env.process(carwash.wash(self.processing_time))\n",
    "\n",
    "            #Log the departure\n",
    "            self.logger.log_car_departure(self.name, self.env.now)"
   ]
  },
  {
   "cell_type": "markdown",
   "metadata": {},
   "source": [
    "#### System 2"
   ]
  },
  {
   "cell_type": "markdown",
   "metadata": {},
   "source": [
    "- 2 Machines with a dedicated queue\n",
    "- Entities pick the machine with shorter queue"
   ]
  },
  {
   "cell_type": "code",
   "execution_count": null,
   "metadata": {},
   "outputs": [],
   "source": [
    "class Carwash_S2:\n",
    "    def __init__(self, env, logger):\n",
    "        self.env = env\n",
    "        self.machine1 = simpy.Resource(env, 1)\n",
    "        self.machine2 = simpy.Resource(env, 1)\n",
    "        self.logger = logger\n",
    "\n",
    "    def wash(self, processing_time):\n",
    "        yield self.env.timeout(processing_time)"
   ]
  },
  {
   "cell_type": "code",
   "execution_count": null,
   "metadata": {},
   "outputs": [],
   "source": [
    "class Car_S2:\n",
    "    def __init__(self, env, name, carwash, logger, interarrival_time, processing_time):\n",
    "        self.env = env\n",
    "        self.name = name\n",
    "        self.logger = logger\n",
    "        self.interarrival_time = interarrival_time\n",
    "        self.processing_time = processing_time\n",
    "\n",
    "        self.env.process(self.run(carwash))\n",
    "\n",
    "    def run(self, carwash):\n",
    "        \n",
    "        # Log the arrival\n",
    "        self.logger.log_car_arrival(self.name, self.env.now, self.interarrival_time)\n",
    "\n",
    "        # Check which machine has the shortest queue\n",
    "        if len(carwash.machine1.queue) <= len(carwash.machine2.queue):\n",
    "            with carwash.machine1.request() as request: \n",
    "                yield request\n",
    "\n",
    "                # Log the request for car wash\n",
    "                self.logger.log_car_wash_request(self.name, self.env.now, 'machine_1', self.processing_time)\n",
    "                yield self.env.process(carwash.wash(self.processing_time))\n",
    "        else:\n",
    "            with carwash.machine2.request() as request:\n",
    "                yield request\n",
    "\n",
    "                # Log the request for car wash\n",
    "                self.logger.log_car_wash_request(self.name, self.env.now, 'machine_2', self.processing_time)\n",
    "                yield self.env.process(carwash.wash(self.processing_time))\n",
    "\n",
    "        #Log the departure\n",
    "        self.logger.log_car_departure(self.name, self.env.now)            "
   ]
  },
  {
   "cell_type": "markdown",
   "metadata": {},
   "source": [
    "#### Entity generator"
   ]
  },
  {
   "cell_type": "code",
   "execution_count": null,
   "metadata": {},
   "outputs": [],
   "source": [
    "def car_generator(env, system, carwash, logger):\n",
    "    '''\n",
    "    system: system configuration\n",
    "    '''\n",
    "    car_count = 0\n",
    "    \n",
    "    # Create cars while the simulation is running\n",
    "    while True:\n",
    "        iat = np.random.exponential(1/0.5) #interarrival time\n",
    "        pt = np.random.exponential(1/0.3) #processing time\n",
    "\n",
    "        yield env.timeout(iat)\n",
    "\n",
    "        if system == 1:\n",
    "            Car_S1(env, f'Car {car_count}', carwash, logger, iat, pt)\n",
    "        elif system == 2:\n",
    "            Car_S2(env, f'Car {car_count}', carwash, logger, iat, pt)\n",
    "        car_count += 1"
   ]
  },
  {
   "cell_type": "markdown",
   "metadata": {},
   "source": [
    "## Run Simulation"
   ]
  },
  {
   "cell_type": "code",
   "execution_count": null,
   "metadata": {},
   "outputs": [],
   "source": [
    "# parameters\n",
    "SIM_TIME = 8*60    # Simulation time in minutes\n",
    "N_REPLICATIONS = 10 # Number of Replications\n",
    "\n",
    "# Setup and start the simulation\n",
    "print('Running Simulation...')\n",
    "\n",
    "#define logger (same for all replications)\n",
    "logger = EventLogger()\n",
    "\n",
    "#Compute a pool of seeds that is larger than the number of replications\n",
    "safe_factor = 10\n",
    "pool_of_seeds = range(1, N_REPLICATIONS * safe_factor)\n",
    "\n",
    "#get a list of seeds of length: N_REPLICATIONS from a pool of seeds. \n",
    "#We set replace=False to ensure that we don't reuse the same seed twice.\n",
    "list_of_seeds = np.random.choice(pool_of_seeds, size=N_REPLICATIONS, replace=False)\n",
    "\n",
    "for i, seed in enumerate(list_of_seeds):\n",
    "    print(f'Running Replication {i} with seed: {seed} ...')\n",
    "\n",
    "    #set random seed\n",
    "    np.random.seed(seed)\n",
    "\n",
    "    #set replication id and random seed\n",
    "    logger.set_replication_info(i, seed)\n",
    "\n",
    "    ######################################\n",
    "    ############## SYSTEM 1 ##############\n",
    "    ######################################\n",
    "\n",
    "    #set system id\n",
    "    logger.set_system_id(1)\n",
    "\n",
    "    # Create an environment and start the setup process\n",
    "    env = simpy.Environment()\n",
    "\n",
    "    #define resources\n",
    "    carwash_s1 = Carwash_S1(env, logger)\n",
    "\n",
    "    #define processes\n",
    "    env.process(car_generator(env, 1, carwash_s1, logger))\n",
    "\n",
    "    # Execute\n",
    "    env.run(until=SIM_TIME)\n",
    "\n",
    "    ######################################\n",
    "    ############## SYSTEM 2 ##############\n",
    "    ######################################\n",
    "    \n",
    "    #set system id\n",
    "    logger.set_system_id(2)\n",
    "\n",
    "    # Create an environment and start the setup process\n",
    "    env = simpy.Environment()\n",
    "\n",
    "    #define resources\n",
    "    carwash_s2 = Carwash_S2(env, logger)\n",
    "\n",
    "    #define processes\n",
    "    env.process(car_generator(env, 2, carwash_s2, logger))\n",
    "\n",
    "    # Execute\n",
    "    env.run(until=SIM_TIME)\n",
    "\n",
    "print('... Done')"
   ]
  },
  {
   "cell_type": "code",
   "execution_count": null,
   "metadata": {},
   "outputs": [],
   "source": [
    "events_df = logger.get_logs_df()\n",
    "\n",
    "events_df"
   ]
  },
  {
   "cell_type": "code",
   "execution_count": null,
   "metadata": {},
   "outputs": [],
   "source": [
    "boolean_mask = (events_df['replication_id'] == 0) & (events_df['event_key'].isin(['Car 0', 'Car 1']) )\n",
    "\n",
    "events_df[boolean_mask].sort_values(by=['event_key', 'event_name', 'system_id'])"
   ]
  },
  {
   "cell_type": "code",
   "execution_count": null,
   "metadata": {},
   "outputs": [],
   "source": [
    "boolean_mask = (events_df['replication_id'] == 1) & (events_df['event_key'].isin(['Car 0', 'Car 1']) )\n",
    "\n",
    "events_df[boolean_mask].sort_values(by=['event_key', 'event_name', 'system_id'])"
   ]
  },
  {
   "cell_type": "markdown",
   "metadata": {},
   "source": [
    "# Exercise / Tasks"
   ]
  },
  {
   "cell_type": "markdown",
   "metadata": {},
   "source": [
    "**Tasks are independently of each other.**"
   ]
  },
  {
   "cell_type": "markdown",
   "metadata": {},
   "source": [
    "## Task 1: Comparison of Two System Designs (CRN)"
   ]
  },
  {
   "cell_type": "markdown",
   "metadata": {},
   "source": [
    "We'd like to compare the **average waiting time** of System 1 and System 2 but with Common Random Numbers (CRN). There are several ways of implementing this but today we'll guide you with one of them.\n",
    "\n",
    "When implementing CRN, is important to note the following:\n",
    "\n",
    "- It is never enough to simply use the same seed on the random-number generator(s). \n",
    "- Each random number used in one model for some purpose should be used for the same purpose in the second model—that is, the use of the random numbers must be synchronized. \n",
    "- For example, if the $i$ random number is used to generate the processing time of a machine for the 5th car in model 1, then the $i$ random number should be used for the very same purpose in model 2. \n",
    "\n",
    "-----\n",
    "\n",
    "**Task 1.1: Create a stream of random numbers for the interarrival times and processing times. Use the same distributions as before, i.e. $exp(1/0.5)$ and $exp(1/0.3)$, respectively. The size of the stream should be at least 1000. Note that this stream must change whenever we set a new seed but must remain the same across system designs**\n",
    "\n",
    "**Task 1.2: Modify the `car_generator_crn` to receive this stream of numbers (both, interarrival and processing times) and use them according the counter for each car. Modify also the parts of your code where you're calling this function.**\n",
    "\n",
    "After these first 2 steps. You should have succesfully implemented CRN.\n",
    "\n",
    "**Task 1.3: Create the \"replication table\". That is: a table that contains for every replication (<u>and now, for every system design</u>) the average waiting time within replications. This should be very similar to Task 1 of Assignment 6 but considering that now we have two different system designs.**\n",
    "\n",
    "**Task 1.4: Evaluate whether the difference of average waiting times between the two system designs is statistically significant. You can use a CI or a hypothesis test for this purpose. Recall that when using CRN, we calculate the “synchronized” performance difference for each replication and then we conduct the CI or hypothesis test. Check slide 23 of the Lecture \"Output Analysis of Multiple Models\" for more details.**\n",
    "\n",
    "-----"
   ]
  },
  {
   "cell_type": "code",
   "execution_count": null,
   "metadata": {},
   "outputs": [],
   "source": [
    "#your code here: modify the function to receive the streams as inputs\n",
    "def car_generator_crn(env, system, carwash, logger):\n",
    "    \n",
    "    car_count = 0\n",
    "    \n",
    "    # Create cars while the simulation is running\n",
    "    while True:\n",
    "        iat = #your code here: use the corresponding stream according the counter for each car\n",
    "        pt = #your code here: use the corresponding stream the counter for each car\n",
    "\n",
    "        yield env.timeout(iat) #common random numbers\n",
    "\n",
    "        if system == 1:\n",
    "            Car_S1(env, f'Car {car_count}', carwash, logger, iat, pt)\n",
    "        elif system == 2:\n",
    "            Car_S2(env, f'Car {car_count}', carwash, logger, iat, pt)\n",
    "        car_count += 1"
   ]
  },
  {
   "cell_type": "code",
   "execution_count": null,
   "metadata": {},
   "outputs": [],
   "source": [
    "# parameters\n",
    "SIM_TIME = 8*60    # Simulation time in minutes\n",
    "N_REPLICATIONS = 10 # Number of Replications\n",
    "\n",
    "# Setup and start the simulation\n",
    "print('Running Simulation...')\n",
    "\n",
    "#define logger (same for all replications)\n",
    "logger_t1 = EventLogger()\n",
    "\n",
    "#Compute a pool of seeds that is larger than the number of replications\n",
    "safe_factor = 10\n",
    "pool_of_seeds = range(1, N_REPLICATIONS * safe_factor)\n",
    "\n",
    "#get a list of seeds of length: N_REPLICATIONS from a pool of seeds. \n",
    "#We set replace=False to ensure that we don't reuse the same seed twice.\n",
    "list_of_seeds = np.random.choice(pool_of_seeds, size=N_REPLICATIONS, replace=False)\n",
    "\n",
    "for i, seed in enumerate(list_of_seeds):\n",
    "    print(f'Running Replication {i} with seed: {seed} ...')\n",
    "\n",
    "    #set random seed\n",
    "    np.random.seed(seed)\n",
    "\n",
    "    #generate streams of inter-arrival times and processing times (\"common random numbers\")\n",
    "    stream_iat = #your code here\n",
    "    stream_pt = #your code here\n",
    "\n",
    "    #set replication id and random seed\n",
    "    logger_t1.set_replication_info(i, seed)\n",
    "\n",
    "    ######################################\n",
    "    ############## SYSTEM 1 ##############\n",
    "    ######################################\n",
    "\n",
    "    #set system id\n",
    "    logger_t1.set_system_id(1)\n",
    "\n",
    "    # Create an environment and start the setup process\n",
    "    env = simpy.Environment()\n",
    "\n",
    "    #define resources\n",
    "    carwash_s1 = Carwash_S1(env, logger_t1)\n",
    "\n",
    "    #define processes\n",
    "    #your code here: pass the streams of inter-arrival times and processing times to the car generator function\n",
    "    env.process(car_generator_crn(env, 1, carwash_s1, logger_t1))\n",
    "\n",
    "    # Execute\n",
    "    env.run(until=SIM_TIME)\n",
    "\n",
    "    ######################################\n",
    "    ############## SYSTEM 2 ##############\n",
    "    ######################################\n",
    "\n",
    "    #set system id\n",
    "    logger_t1.set_system_id(2)\n",
    "\n",
    "    # Create an environment and start the setup process\n",
    "    env = simpy.Environment()\n",
    "\n",
    "    #define resources\n",
    "    carwash_s2 = Carwash_S2(env, logger_t1)\n",
    "\n",
    "    #define processes\n",
    "    #your code here: pass the streams of inter-arrival times and processing times to the car generator function\n",
    "    env.process(car_generator_crn(env, 2, carwash_s2, logger_t1))\n",
    "\n",
    "    # Execute\n",
    "    env.run(until=SIM_TIME)\n",
    "\n",
    "print('... Done')"
   ]
  },
  {
   "cell_type": "code",
   "execution_count": null,
   "metadata": {},
   "outputs": [],
   "source": [
    "#Leave this code unchanged\n",
    "events_df_t1 = logger_t1.get_logs_df()\n",
    "\n",
    "events_df_t1"
   ]
  },
  {
   "cell_type": "code",
   "execution_count": null,
   "metadata": {},
   "outputs": [],
   "source": [
    "#Leave this code unchanged (check that the interarrival times and processing times are the same for the same car in both systems)\n",
    "boolean_mask = (events_df_t1['replication_id'] == 0) & (events_df_t1['event_key'].isin(['Car 0', 'Car 1']) )\n",
    "\n",
    "events_df_t1[boolean_mask].sort_values(by=['event_key', 'event_name', 'system_id'])"
   ]
  },
  {
   "cell_type": "code",
   "execution_count": null,
   "metadata": {},
   "outputs": [],
   "source": [
    "#Leave this code unchanged (check that the interarrival times and processing times are the same for the same car in both systems)\n",
    "boolean_mask = (events_df_t1['replication_id'] == 1) & (events_df_t1['event_key'].isin(['Car 0', 'Car 1']) )\n",
    "\n",
    "events_df_t1[boolean_mask].sort_values(by=['event_key', 'event_name', 'system_id'])"
   ]
  },
  {
   "cell_type": "code",
   "execution_count": null,
   "metadata": {},
   "outputs": [],
   "source": [
    "#your code here: compute the waiting time for each car in each system and each replication (you may want to use pd.pivot_table for this)\n"
   ]
  },
  {
   "cell_type": "code",
   "execution_count": null,
   "metadata": {},
   "outputs": [],
   "source": [
    "#your code here: compute the average waiting time for each system and each replication (average waiting time within replications, for the two systems)\n"
   ]
  },
  {
   "cell_type": "code",
   "execution_count": null,
   "metadata": {},
   "outputs": [],
   "source": [
    "#your code here: evaluate whether the difference of average waiting times between the two system designs is statistically significant\n"
   ]
  },
  {
   "cell_type": "markdown",
   "metadata": {},
   "source": [
    "Answer the following questions:\n",
    "\n",
    "- Which system configuration is better? Is the difference in performance statistically significant?"
   ]
  },
  {
   "cell_type": "markdown",
   "metadata": {},
   "source": [
    "**Answer in this markdown chunk:**\n",
    "\n",
    "- *Your answer here*"
   ]
  },
  {
   "cell_type": "markdown",
   "metadata": {},
   "source": [
    "## Task 2: Metamodels (CRN)"
   ]
  },
  {
   "cell_type": "markdown",
   "metadata": {},
   "source": [
    "We'd like to create a metamodel for analyzing the **average waiting time** of System 1. Suppose that for reducing the waiting time, we can:\n",
    "1. Buy more machines (i.e. increase the number of \"counters\")\n",
    "1. Upgrade the current machines and therefore decrease the processing times by a so-called reduction factor. That is, if the reduction factor ($rf$) is 10% that means that we're decreasing the processing times by 10%. The formula is: $pt_{upgrade} = pt * (1 - rf)$\n",
    "1. A combination of both options.\n",
    "\n",
    "The idea is to understand how our output metric varies when varying this two design variables, we'll use a simple metamodel to approximate the relationship between our design variables and the average waiting time. Recall that we can use Independent Sampling or Common Random Numbers (CRN) when working with metamodels. In this occasion, we'll implement CRN.\n",
    "\n",
    "When implementing CRN, is important to note the following:\n",
    "\n",
    "- It is never enough to simply use the same seed on the random-number generator(s). \n",
    "- Each random number used in one model for some purpose should be used for the same purpose in the second model—that is, the use of the random numbers must be synchronized. \n",
    "- For example, if the $i$ random number is used to generate the processing time of a machine for the 5th car in model 1, then the $i$ random number should be used for the very same purpose in model 2. \n",
    "\n",
    "-----\n",
    "\n",
    "(If you did Task 1, Task 2.1 and 2.2 are exactly the same as before)\n",
    "\n",
    "**Task 2.1: Create a stream of random numbers for the interarrival times and processing times. Use the same distributions as before, i.e. $exp(1/0.5)$ and $exp(1/0.3)$, respectively. The size of the stream should be at least 1000. Note that this stream must change whenever we set a new seed but must remain the same across the design variables**\n",
    "\n",
    "**Task 2.2: Modify the `car_generator_crn` to receive this stream of numbers (both, interarrival and processing times) and use them according the counter for each car. Modify also the parts of your code where you're calling this function.**\n",
    "\n",
    "After these first 2 steps. You should have succesfully implemented CRN.\n",
    "\n",
    "**Task 2.3: Within the *for* loop for iterate over the replications, nest two more *for* loops for iterate over the number of machines and the reduction factor. In particular, try with a number of machines from 1 to 4 (all integers) and a reduction factor from 0 (no reduction) to 80% with a stepsize of 10%.**\n",
    "\n",
    "Note that for every seed, for every value of number of machines and for every value of reduction factor, you should run your simulation model. Don't forget to adjust the stream of processing times by the reduction factor and to set the corresponding number of machines when defining the Carwash object.\n",
    "\n",
    "**Task 2.4: Modify the `EventLogger_Task2` to set the value of the current number of machines and reduction factor (you can implement this with a new method similar to `set_replication_info`). Include this information everytime you log an event (i.e. in every method that starts with `log_`)**\n",
    "\n",
    "**Task 2.5: Create the \"replication table\". That is: a table that contains for every replication (<u>and now, for every combination of the design variables</u>) the average waiting time within replications. This should be very similar to Task 1 of Assignment 6 but considering that now we have two design variables.**\n",
    "\n",
    "**Task 2.6: Aggregate the \"replication table\" accross replications. That is, you should have the average (across replications) of the average (within replications) waiting time for every combination of our design variables.**\n",
    "\n",
    "**Task 2.7: Fit a (multiple) linear regression using the average (of the average) waiting time as dependent variable and our two design variables as independent variables. Note that the number of machines is a categorical variable and the reduction factor is a numerical variable. You can use any package for this, check Hint 1 for a suggestion.** \n",
    "\n",
    "**Task 2.8: Interpret the results of the (multiple) linear regression and answer the questions.**\n",
    "\n",
    "-----\n",
    "\n",
    "**Hint 1:** An easy way of fitting linear regression models in python is to use the `ols` function of the `statsmodels.formula.api` module. Once you have your fitted model, you only have to use the `.summary()` method on the model to get an overview of the regression results. Check the [reference](https://www.statsmodels.org/dev/example_formulas.html) for more details. Check as well the use of the `C()` operator for treating categorical variables."
   ]
  },
  {
   "cell_type": "code",
   "execution_count": null,
   "metadata": {},
   "outputs": [],
   "source": [
    "class EventLogger_Task2:\n",
    "    def __init__(self):\n",
    "        self.logs = []\n",
    "        self.replication = None\n",
    "        self.seed = None\n",
    "        self.system_id = None \n",
    "    \n",
    "    def set_system_id(self, system_id): #for this task, we're not using this method, therefore system_id will always be None\n",
    "        self.system_id = system_id\n",
    "\n",
    "    def set_replication_info(self, replication, seed):\n",
    "        self.replication = replication\n",
    "        self.seed = seed\n",
    "\n",
    "    #your code here: create a method for setting the design variables (number of machines and reduction factor)\n",
    "\n",
    "    def log_car_arrival(self, entity, time, interarrival_time):\n",
    "        #your code here: include the design variables in the logs\n",
    "        self.logs.append({'system_id': self.system_id, #system info\n",
    "                          'replication_id': self.replication, 'seed': self.seed, #replication info\n",
    "                          'event_time': time, 'event_name': 'car_arrival', 'event_key': entity, #simulation info\n",
    "                          'interarrival_time': interarrival_time\n",
    "                          })\n",
    "    \n",
    "    def log_car_wash_request(self, entity, time, machine_id, processing_time):\n",
    "        #your code here: include the design variables in the logs\n",
    "        self.logs.append({'system_id': self.system_id, #system info\n",
    "                          'replication_id': self.replication, 'seed': self.seed, #replication info\n",
    "                          'event_time': time, 'event_name': 'car_wash_request', 'event_key': entity, #simulation info\n",
    "                          'machine_id': machine_id, 'processing_time': processing_time\n",
    "                          })\n",
    "\n",
    "    def log_car_departure(self, entity, time):\n",
    "        #your code here: include the design variables in the logs\n",
    "        self.logs.append({'system_id': self.system_id, #system info\n",
    "                          'replication_id': self.replication, 'seed': self.seed, #replication info\n",
    "                          'event_time': time, 'event_name': 'car_departure', 'event_key': entity #simulation info\n",
    "                          })\n",
    "\n",
    "    def get_logs_df(self):\n",
    "        return pd.DataFrame(self.logs)\n",
    "    \n",
    "    def dump_logs_df(self, filepath=None):\n",
    "        if filepath is None: \n",
    "            filepath = \"logs.csv\"\n",
    "\n",
    "        self.get_logs_df().to_csv(filepath, index=False)"
   ]
  },
  {
   "cell_type": "code",
   "execution_count": null,
   "metadata": {},
   "outputs": [],
   "source": [
    "#your code here: modify the function to receive the streams as inputs\n",
    "def car_generator_crn(env, carwash, logger):\n",
    "\n",
    "    car_count = 0\n",
    "    \n",
    "    # Create cars while the simulation is running\n",
    "    while True:\n",
    "        iat = #your code here: use the corresponding stream according the counter for each car\n",
    "        pt = #your code here: use the corresponding stream the counter for each car\n",
    "\n",
    "        yield env.timeout(iat) #common random numbers\n",
    "\n",
    "        Car_S1(env, f'Car {car_count}', carwash, logger, iat, pt)\n",
    "        car_count += 1"
   ]
  },
  {
   "cell_type": "code",
   "execution_count": null,
   "metadata": {},
   "outputs": [],
   "source": [
    "# parameters\n",
    "SIM_TIME = 8*60    # Simulation time in minutes\n",
    "N_REPLICATIONS = 10 # Number of Replications\n",
    "\n",
    "# Setup and start the simulation\n",
    "print('Running Simulation...')\n",
    "\n",
    "#define logger (same for all replications)\n",
    "logger_t2 = EventLogger_Task2()\n",
    "\n",
    "#Compute a pool of seeds that is larger than the number of replications\n",
    "safe_factor = 10\n",
    "pool_of_seeds = range(1, N_REPLICATIONS * safe_factor)\n",
    "\n",
    "#get a list of seeds of length: N_REPLICATIONS from a pool of seeds. \n",
    "#We set replace=False to ensure that we don't reuse the same seed twice.\n",
    "list_of_seeds = np.random.choice(pool_of_seeds, size=N_REPLICATIONS, replace=False)\n",
    "\n",
    "for i, seed in enumerate(list_of_seeds):\n",
    "    print(f'Running Replication {i} with seed: {seed} ...')\n",
    "\n",
    "    #set random seed\n",
    "    np.random.seed(seed)\n",
    "    \n",
    "    #generate streams of inter-arrival times and processing times (\"common random numbers\")\n",
    "    stream_iat = #your code here\n",
    "    stream_pt = #your code here\n",
    "\n",
    "    #set replication id and random seed\n",
    "    logger_t2.set_replication_info(i, seed)\n",
    "\n",
    "    #your code here: iterate over the number of machines and the reduction factor\n",
    "    for #your code here\n",
    "        for #your code here\n",
    "\n",
    "            # adjust the processing time stream by the reduction factor\n",
    "            stream_pt_adj = #your code here\n",
    "\n",
    "            #your code here: set the value of the design variables in the logger\n",
    "            logger_t2\n",
    "\n",
    "            # Create an environment and start the setup process\n",
    "            env = simpy.Environment()\n",
    "\n",
    "            #define resources\n",
    "            carwash_s1 = Carwash_S1(env, logger_t2) #your code here: set the corresponding number of machines\n",
    "\n",
    "            #define processes\n",
    "            #your code here: pass the streams of inter-arrival times and the (adjusted) processing times to the car generator function\n",
    "            env.process(car_generator_crn(env, carwash_s1, logger_t2))\n",
    "\n",
    "            # Execute\n",
    "            env.run(until=SIM_TIME)\n",
    "\n",
    "print('... Done')"
   ]
  },
  {
   "cell_type": "code",
   "execution_count": null,
   "metadata": {},
   "outputs": [],
   "source": [
    "#Leave this code unchanged\n",
    "events_df_t2 = logger_t2.get_logs_df()\n",
    "\n",
    "events_df_t2"
   ]
  },
  {
   "cell_type": "code",
   "execution_count": null,
   "metadata": {},
   "outputs": [],
   "source": [
    "#Leave this code unchanged (check that the interarrival times are the same for the same car for every combination of the design variables)\n",
    "boolean_mask = (events_df_t2['replication_id'] == 0) & (events_df_t2['event_key'].isin(['Car 0']) ) & (events_df_t2['event_name'] == 'car_arrival')\n",
    "\n",
    "events_df_t2[boolean_mask].sort_values(by=['event_key', 'event_name', 'n_machines', 'reduction_factor']).head(10)"
   ]
  },
  {
   "cell_type": "code",
   "execution_count": null,
   "metadata": {},
   "outputs": [],
   "source": [
    "#Leave this code unchanged (check that the processing times are the adjusted for the same car for every combination of the design variables)\n",
    "\n",
    "boolean_mask = (events_df_t2['replication_id'] == 0) & (events_df_t2['event_key'].isin(['Car 0']) ) & (events_df_t2['event_name'] == 'car_wash_request')\n",
    "\n",
    "events_df_t2[boolean_mask].sort_values(by=['event_key', 'event_name', 'n_machines', 'reduction_factor']).head(10)"
   ]
  },
  {
   "cell_type": "code",
   "execution_count": null,
   "metadata": {},
   "outputs": [],
   "source": [
    "#your code here: compute the waiting time for each car in each replication and each combination of the design variables (you may want to use pd.pivot_table for this)\n"
   ]
  },
  {
   "cell_type": "code",
   "execution_count": null,
   "metadata": {},
   "outputs": [],
   "source": [
    "#your code here: compute the average waiting time for each replication and each combination of the design variables (average waiting time within replications, for each combination of the design variables)\n"
   ]
  },
  {
   "cell_type": "code",
   "execution_count": null,
   "metadata": {},
   "outputs": [],
   "source": [
    "# Aggregate accross replications. \n",
    "# your code here: compute the average (of the average) waiting time for each combination of the design variables (average waiting time across replications, for each combination of the design variables)\n"
   ]
  },
  {
   "cell_type": "code",
   "execution_count": null,
   "metadata": {},
   "outputs": [],
   "source": [
    "#your code here: fit a linear regression model to the data and interpret the results\n"
   ]
  },
  {
   "cell_type": "markdown",
   "metadata": {},
   "source": [
    "Answer the following questions:\n",
    "\n",
    "- What can you say about the \"goodnes-of-fit\" of the model?\n",
    "- Assuming you have only 1 machine, what would be better for reducing the average waiting time? (assume both options have the same cost)\n",
    "    1. Buying one more machine \n",
    "    1. Upgrading the machine and reducing the processing time by 50%?. \n",
    "- How is the effect of buying more machines? Is this effect linear with the number of machines??"
   ]
  },
  {
   "cell_type": "markdown",
   "metadata": {},
   "source": [
    "**Answer in this markdown chunk:**\n",
    "\n",
    "- *Your answer here*"
   ]
  }
 ],
 "metadata": {
  "kernelspec": {
   "display_name": "env",
   "language": "python",
   "name": "python3"
  },
  "language_info": {
   "codemirror_mode": {
    "name": "ipython",
    "version": 3
   },
   "file_extension": ".py",
   "mimetype": "text/x-python",
   "name": "python",
   "nbconvert_exporter": "python",
   "pygments_lexer": "ipython3",
   "version": "3.9.13"
  }
 },
 "nbformat": 4,
 "nbformat_minor": 2
}
