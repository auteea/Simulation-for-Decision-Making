{
 "cells": [
  {
   "cell_type": "markdown",
   "metadata": {},
   "source": [
    "<div class='bar_title'></div>\n",
    "\n",
    "*Simulation for Decision Making (S4DM)*\n",
    "\n",
    "# Assignment 1: Setting up everything\n",
    "\n",
    "Summer Semester 24\n",
    "\n",
    "\n",
    "Gunther Gust & Ignacio Ubeda <br>\n",
    "Chair for Enterprise AI <br>\n",
    "Data Driven Decisions Group <br>\n",
    "Center for Artificial Intelligence and Data Science (CAIDAS)"
   ]
  },
  {
   "cell_type": "markdown",
   "metadata": {},
   "source": [
    "<img src=\"images/d3.png\" style=\"width:20%; float:left;\" />"
   ]
  },
  {
   "cell_type": "markdown",
   "metadata": {},
   "source": [
    "<img src=\"images/CAIDASlogo.png\" style=\"width:20%; float:left;\" />"
   ]
  },
  {
   "cell_type": "code",
   "execution_count": 1,
   "metadata": {
    "tags": [
     "remove-cell"
    ]
   },
   "outputs": [],
   "source": [
    "from IPython.display import IFrame"
   ]
  },
  {
   "cell_type": "markdown",
   "metadata": {},
   "source": [
    "## Task 1: Familiarize yourself with Git\n",
    "\n",
    "For this very first task, all you need to do is to make sure you are all set up to follow the assignments of this course. \n",
    "\n",
    "1. Download the git tutorial available in the WueCampus course. Make sure you understand how to create a Git Codespaces environment and the submission workflow\n",
    "1. Create a new branch and initialize a codespaces environment\n",
    "1. Complete the Task III and submit your notebook following the steps of the submission workflow\n",
    "1. Stop (or Delete) your codespaces environment\n",
    "\n",
    "## Task 2: Familiarize yourself with Jupyter Notebooks\n",
    "\n",
    "For this second task, you'll get to know how to work with Jupyter Notebooks. For doing so, please watch the video in the **Jupyter Notebooks** section from the [Geographic Data Science course](https://darribas.org/gds_course/content/bA/lab_A.html).\n",
    "\n",
    "**Note**: Don't confuse you with the video of the **Jupyter Lab** section. We're not going to use Jupyter Lab for our course.\n",
    "\n",
    "## Task 3: Master Markdown\n",
    "\n",
    "For this third task, we are going to focus on getting to know Markdown a bit better. Remember Markdown is the technology that'll allow us to render text within a notebook. To get familiar with Markdown and how you can style up your text cells, start by reading [this resource](https://guides.github.com/features/mastering-markdown/).\n",
    "\n",
    "To practise its syntax, try to reproduce the following WikiPedia entry:\n",
    "\n",
    "> [https://en.wikipedia.org/wiki/Shandy](https://en.wikipedia.org/wiki/Shandy)"
   ]
  },
  {
   "cell_type": "code",
   "execution_count": 3,
   "metadata": {
    "tags": [
     "remove-input"
    ]
   },
   "outputs": [
    {
     "data": {
      "text/html": [
       "\n",
       "        <iframe\n",
       "            width=\"700\"\n",
       "            height=\"300\"\n",
       "            src=\"https://en.wikipedia.org/wiki/Shandy\"\n",
       "            frameborder=\"0\"\n",
       "            allowfullscreen\n",
       "            \n",
       "        ></iframe>\n",
       "        "
      ],
      "text/plain": [
       "<IPython.lib.display.IFrame at 0x10876a2e0>"
      ]
     },
     "execution_count": 3,
     "metadata": {},
     "output_type": "execute_result"
    }
   ],
   "source": [
    "IFrame(\"https://en.wikipedia.org/wiki/Shandy\",\n",
    "       width=700,\n",
    "       height=300\n",
    "      )"
   ]
  },
  {
   "cell_type": "markdown",
   "metadata": {},
   "source": [
    "```{tip}\n",
    "Do not over think it. Focus on getting the bold, italics, links, headlines and lists correctly formated, but don't worry too much about the overall layout. Bonus if you manage to insert the image as well (it does not need to be properly placed as in the original page)!\n",
    "```"
   ]
  },
  {
   "cell_type": "markdown",
   "metadata": {},
   "source": [
    "##### Your markdown commands here\n"
   ]
  },
  {
   "cell_type": "markdown",
   "metadata": {},
   "source": [
    "<div style=\"background-color:#ffffff; color:#000000; padding:10px;\">\n",
    "\n",
    "# **Shandy**\n",
    "\n",
    "From Wikipedia, the free encyclopedia\n",
    "_For the 18th-century novel, see <span style=\"color:blue;\">_Tristram Shandy_.</span>\n",
    "\"Radler\" and \"Shandy Gaff\" redirect here. For the surname, see <span style=\"color:blue;\">_Radler (surname)_</span>. For the song, see <span style=\"color:blue;\">Adapt _(Sakanaction album)._</span>\n",
    "\n",
    "**Shandy** is <span style=\"color:blue;\">beer</span> mixed with a lemon flavoured beverage, often <span style=\"color:blue;\">lemonade</span>, usually half lemonade and half beer, resulting in a lower <span style=\"color:blue;\">ABV</span> for the finished drink. Shandies are popular in Europe, Australia, New Zealand, <span style=\"color:blue;\">South Africa</span>, and Canada.\n",
    "\n",
    "In some <span style=\"color:blue;\">jurisdictions</span>, the low <span style=\"color:blue;\">alcohol content</span> of shandies exempts them from laws governing the sale of <span style=\"color:blue;\">alcoholic beverages</span>.<br><br>\n",
    "\n",
    "\n",
    "![Radler Pils Unterschied](https://upload.wikimedia.org/wikipedia/commons/thumb/d/d2/Radler_Pils_Unterschied_01_%28RaBoe%29.jpg/330px-Radler_Pils_Unterschied_01_%28RaBoe%29.jpg)<br>\n",
    "*Comparison of a _Radler_ shandy (left) and <br> a <span style=\"color:blue;\"> _Pilsner_ </span> (right)<br>*\n",
    "\n",
    "*__Type__ &nbsp;&nbsp;&nbsp;&nbsp;&nbsp;&nbsp;&nbsp;&nbsp; Cocktail*<br><br>\n",
    "\n",
    "## Etymology\n",
    "The debated origin of the term (recorded first in 1888) is shortened from _shandygaff_, from Britain in 1853 and itself of obscure source.<sup>[1]</sup><br><br>\n",
    "\n",
    "## Variants by name\n",
    "_Shandy_ is a popular drink in UK and is usually ordered as either \"bitter shandy\" (50/50 bitter beer and fizzy clear lemonade) or \"lager shandy\" in which lager is substituted for the ale.<br><br>\n",
    "\n",
    "### ***Radler***\n",
    "_Radler_ (German: <span style=\"color:blue;\">[ˈʁaːdlɐ]</span>, German for \"cyclist\") has a long history in German-speaking regions. It commonly consists of a 50:50 mixture of beer and a lemon-flavoured soft drink.<sup>[2]</sup>\n",
    "\n",
    "The term _Radler_ originates with a drink called _Radlermass_ (\"cyclist litre\") that was created by innkeeper Franz Kugler in the small town of Deisenhofen, just outside Munich. During the great cycling boom of the <span style=\"color:blue;\">Roaring Twenties</span>, Kugler created a bicycle trail from Munich through the woods that led directly to his drinking establishment. <sup>[citation needed]</sup>\n",
    "\n",
    "While the term _Radler_ has been widely attributed to Kugler, the combination of beer and soft drink is documented in texts dating from 1912.<sup>[3]</sup> Radler is consumed not only in <span style=\"color:blue;\">Bavaria</span>, but also in other parts of Germany, Austria, Czechia, Hungary, Italy, Slovakia, Slovenia, Croatia, Serbia, Poland, Portugal, Netherlands, Norway, Bulgaria, the United States, Canada, and Romania.\n",
    "\n",
    "In northern Germany, a half-and-half mix of <span style=\"color:blue;\">Pilsner</span> beer and soft drink is known as an _Alster_ (short for _Alsterwasser_, German: <span style=\"color:blue;\">[ˈalstɐˌvasɐ]</span>, German for \"Water from the <span style=\"color:blue;\">Alster</span>\", a river in Hamburg). Regionally the _Radler_ and _Alster_ may refer to shandies made with either citrus or orange flavoured softdrinks, with the two terms either contrasting or referring to the same drink. In Austria, a _saure Radler_ is a mix of lager and soda water.<sup>[4]</sup>\n",
    "\n",
    "In Austria, it is common to use <span style=\"color:blue;\">Almdudler</span> instead of lemonade for the Radler.\n",
    "\n",
    "_Radler_ is very popular during the summer months due to its low alcohol content and reputation for being a 'thirst-quencher.'<sup>[5]</sup>\n",
    "\n",
    "In New Zealand, the word \"radler\" was trademarked by <span style=\"color:blue;\">DB Breweries</span> for their \"Monteith's _Radler_\" beer, which is a citrus-flavoured, full-strength (5%) beer.<sup>[6]</sup> This has led to some brewers to use the names \"reldar\" (_Radler_ spelled backwards) and \"Cyclist\" (the literal meaning of _Radler_).<sup>[7]</sup>\n",
    "\n",
    "In the Netherlands, shandy and Radler are largely seen as two different drinks, shandy being a 0,5% alcohol drink popular as a children's drink during the 70s, as not >0.5% was officially seen as non-alcoholic.<sup>[citation needed]</sup> The classic Radler, known from Germany, and since a decade or so<sup>[when?]</sup> also sold as pre-mixed drinks in increasing popularity by most large Dutch beer brewers in increasing variants.<br><br>\n",
    "\n",
    "## **Russ**\n",
    "In <span style=\"color:blue;\">Bavaria</span>, the southeastern <span style=\"color:blue;\">state</span> of <span style=\"color:blue;\">Germany</span>, as well as in the countryside of Austria, a mix of 50% <span style=\"color:blue;\">_Weißbier_</span> and 50% lemonade is called a \"Russ\". There are three different theories about the origin of this name:<sup>[8]</sup>\n",
    "\n",
    "+ Due to a shortage of raw materials that occurred during <span style=\"color:blue;\">the great inflation between 1921 and 1923</span>, Weißbier became more popular. To further reduce material efforts, the Weißbier was thinned with lemonade. The name \"Russ\" may derive from the popularity of the drink among Russian workers in Germany at that time.\n",
    "+ Another theory of the name's origin is that the drink initially was called \"Riesen-Maß\" _(Riesen = giant)_, as the drink mixture frothed heavily.\n",
    "+ The most popular theory is that the drink was first served in the <span style=\"color:blue;\">Mathäser-Keller</span> in Munich after <span style=\"color:blue;\">the 1918 Revolution</span> when Communists came together.<sup>[citation needed]</sup><br><br>\n",
    "\n",
    "## Shandygaff\n",
    "A _Shandygaff_ is an older British name for beer mixed with <span style=\"color:blue;\">ginger beer</span> or <span style=\"color:blue;\">ginger ale</span>; the earliest written record of the word dates back to 1853.<sup>[9]</sup> In H. G. Wells’ comic novel <span style=\"color:blue;\">_The History of Mr Polly_</span>, Wells refers to Shandygaff as \"two bottles of beer mixed with ginger beer in a round-bellied jug\".<br><br>\n",
    "\n",
    "## Lager top\n",
    "In England, Wales and Scotland, a lager top is a lager with a dash of lemonade on top, the latter of which reduces the lager's hardness.<sup>[10][11]</sup><br><br>\n",
    "\n",
    "## Panaché\n",
    "In France and Switzerland, a mix of beer and soda (Sprite) is called a Panaché.<sup>[12]</sup> This name was also adopted in Portugal due to the influence of French culture in the area.<br><br>\n",
    "\n",
    "## Monaco\n",
    "In France, a 50/50 mix of lager and carbonated lemonade with a dash of <span style=\"color:blue;\">Grenadine</span> is called a <span style=\"color:blue;\">Monaco</span>.<br><br>\n",
    "\n",
    "## Clara\n",
    "In Spain, a _clara_ is typically any mixture of beer with a sweet-tasting carbonated soft drink (in order to reduce the bitterness of the hops).<sup>[13]</sup> The addition of soda lightens the color of the beer, hence its name (clara means \"clear\" in Spanish). It is usually served as a refreshment in the hot summer months, being a very popular drink.<sup>[14]</sup> Other regions have different names for the mixture, and there is a debate over whether a clara refers to beer with lemon, or beer with a soft drink.<sup>[15][16][17]</sup><br><br>\n",
    "\n",
    "## See also\n",
    "+ <span style=\"color:blue;\">Beer cocktail</span>\n",
    "+ <span style=\"color:blue;\">_Michelada_</span>\n",
    "+ <span style=\"color:blue;\">Queen Mary (beer cocktail)</span>\n",
    "\n",
    "\n",
    "</div>\n"
   ]
  }
 ],
 "metadata": {
  "kernelspec": {
   "display_name": "Python 3",
   "language": "python",
   "name": "python3"
  },
  "language_info": {
   "codemirror_mode": {
    "name": "ipython",
    "version": 3
   },
   "file_extension": ".py",
   "mimetype": "text/x-python",
   "name": "python",
   "nbconvert_exporter": "python",
   "pygments_lexer": "ipython3",
   "version": "3.8.17"
  }
 },
 "nbformat": 4,
 "nbformat_minor": 4
}
