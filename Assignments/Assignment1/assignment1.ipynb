{
 "cells": [
  {
   "cell_type": "markdown",
   "metadata": {},
   "source": [
    "<div class='bar_title'></div>\n",
    "\n",
    "*Simulation for Decision Making (S4DM)*\n",
    "\n",
    "# Assignment 1: Setting up everything\n",
    "\n",
    "Summer Semester 24\n",
    "\n",
    "\n",
    "Gunther Gust & Ignacio Ubeda <br>\n",
    "Chair for Enterprise AI <br>\n",
    "Data Driven Decisions Group <br>\n",
    "Center for Artificial Intelligence and Data Science (CAIDAS)"
   ]
  },
  {
   "cell_type": "markdown",
   "metadata": {},
   "source": [
    "<img src=\"images/d3.png\" style=\"width:20%; float:left;\" />"
   ]
  },
  {
   "cell_type": "markdown",
   "metadata": {},
   "source": [
    "<img src=\"images/CAIDASlogo.png\" style=\"width:20%; float:left;\" />"
   ]
  },
  {
   "cell_type": "code",
   "execution_count": 2,
   "metadata": {
    "tags": [
     "remove-cell"
    ]
   },
   "outputs": [],
   "source": [
    "from IPython.display import IFrame"
   ]
  },
  {
   "cell_type": "markdown",
   "metadata": {},
   "source": [
    "## Task 1: Familiarize yourself with Git\n",
    "\n",
    "For this very first task, all you need to do is to make sure you are all set up to follow the assignments of this course. \n",
    "\n",
    "1. Download the git tutorial available in the WueCampus course. Make sure you understand how to create a Git Codespaces environment and the submission workflow\n",
    "1. Create a new branch and initialize a codespaces environment\n",
    "1. Complete the Task III and submit your notebook following the steps of the submission workflow\n",
    "1. Stop (or Delete) your codespaces environment\n",
    "\n",
    "## Task 2: Familiarize yourself with Jupyter Notebooks\n",
    "\n",
    "For this second task, you'll get to know how to work with Jupyter Notebooks. For doing so, please watch the video in the **Jupyter Notebooks** section from the [Geographic Data Science course](https://darribas.org/gds_course/content/bA/lab_A.html).\n",
    "\n",
    "**Note**: Don't confuse you with the video of the **Jupyter Lab** section. We're not going to use Jupyter Lab for our course.\n",
    "\n",
    "## Task 3: Master Markdown\n",
    "\n",
    "For this third task, we are going to focus on getting to know Markdown a bit better. Remember Markdown is the technology that'll allow us to render text within a notebook. To get familiar with Markdown and how you can style up your text cells, start by reading [this resource](https://guides.github.com/features/mastering-markdown/).\n",
    "\n",
    "To practise its syntax, try to reproduce the following WikiPedia entry:\n",
    "\n",
    "> [https://en.wikipedia.org/wiki/Shandy](https://en.wikipedia.org/wiki/Shandy)"
   ]
  },
  {
   "cell_type": "code",
   "execution_count": 3,
   "metadata": {
    "tags": [
     "remove-input"
    ]
   },
   "outputs": [
    {
     "data": {
      "text/html": [
       "\n",
       "        <iframe\n",
       "            width=\"700\"\n",
       "            height=\"300\"\n",
       "            src=\"https://en.wikipedia.org/wiki/Shandy\"\n",
       "            frameborder=\"0\"\n",
       "            allowfullscreen\n",
       "            \n",
       "        ></iframe>\n",
       "        "
      ],
      "text/plain": [
       "<IPython.lib.display.IFrame at 0x10876a2e0>"
      ]
     },
     "execution_count": 3,
     "metadata": {},
     "output_type": "execute_result"
    }
   ],
   "source": [
    "IFrame(\"https://en.wikipedia.org/wiki/Shandy\",\n",
    "       width=700,\n",
    "       height=300\n",
    "      )"
   ]
  },
  {
   "cell_type": "markdown",
   "metadata": {},
   "source": [
    "```{tip}\n",
    "Do not over think it. Focus on getting the bold, italics, links, headlines and lists correctly formated, but don't worry too much about the overall layout. Bonus if you manage to insert the image as well (it does not need to be properly placed as in the original page)!\n",
    "```"
   ]
  },
  {
   "cell_type": "markdown",
   "metadata": {},
   "source": [
    "##### Your markdown commands here\n"
   ]
  }
 ],
 "metadata": {
  "kernelspec": {
   "display_name": "Python 3",
   "language": "python",
   "name": "python3"
  },
  "language_info": {
   "codemirror_mode": {
    "name": "ipython",
    "version": 3
   },
   "file_extension": ".py",
   "mimetype": "text/x-python",
   "name": "python",
   "nbconvert_exporter": "python",
   "pygments_lexer": "ipython3",
   "version": "3.9.6"
  }
 },
 "nbformat": 4,
 "nbformat_minor": 4
}
