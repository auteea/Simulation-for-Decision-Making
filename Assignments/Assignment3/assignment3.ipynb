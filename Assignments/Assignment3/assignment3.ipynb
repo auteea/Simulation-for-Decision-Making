{
 "cells": [
  {
   "cell_type": "markdown",
   "metadata": {},
   "source": [
    "<div class='bar_title'></div>\n",
    "\n",
    "*Simulation for Decision Making (S4DM)*\n",
    "\n",
    "# Assignment 3: Introduction to Simulation with Python (Part 4)\n",
    "\n",
    "Gunther Gust & Ignacio Ubeda <br>\n",
    "Chair for Enterprise AI <br>\n",
    "Data Driven Decisions Group <br>\n",
    "Center for Artificial Intelligence and Data Science (CAIDAS)\n"
   ]
  },
  {
   "cell_type": "markdown",
   "metadata": {},
   "source": [
    "<img src=\"images/d3.png\" style=\"width:20%; float:left;\" />"
   ]
  },
  {
   "cell_type": "markdown",
   "metadata": {},
   "source": [
    "<img src=\"images/CAIDASlogo.png\" style=\"width:20%; float:left;\" />"
   ]
  },
  {
   "cell_type": "markdown",
   "metadata": {},
   "source": [
    "# Agenda\n",
    "\n",
    "* Logging (*101*)\n",
    "* Condition events (waiting for multiple events)\n",
    "\n",
    "\n",
    "Credits: The following content is adapted from the official [movie renege example](https://simpy.readthedocs.io/en/latest/examples/movie_renege.html) "
   ]
  },
  {
   "cell_type": "markdown",
   "metadata": {},
   "source": [
    "# Movie renege example"
   ]
  },
  {
   "cell_type": "markdown",
   "metadata": {},
   "source": [
    "### Scenario\n",
    "\n",
    "- This examples models a movie theater with one ticket counter selling tickets for three different movies. \n",
    "\n",
    "- People arrive at random times and try to buy a random number (1–6) of tickets for a random movie. \n",
    "\n",
    "- When a movie is sold out, all people waiting to buy a ticket for that movie renege (leave the queue)."
   ]
  },
  {
   "cell_type": "code",
   "execution_count": null,
   "metadata": {},
   "outputs": [],
   "source": [
    "import simpy\n",
    "import random"
   ]
  },
  {
   "cell_type": "markdown",
   "metadata": {},
   "source": [
    "\n",
    "Let's recall our convention, \n",
    "\n",
    "- Resources will be modeled by a python class\n",
    "- Entities will be modeled by a python class\n",
    "- Entities arrivals will be modeled by a python function (*simpy process*)\n",
    "\n",
    "Remember that when possible, we'll use this convention to model our system"
   ]
  },
  {
   "cell_type": "markdown",
   "metadata": {},
   "source": [
    "### Resource (Theater)"
   ]
  },
  {
   "cell_type": "markdown",
   "metadata": {},
   "source": [
    "Alongise the simpy environment (`self.env`) and the simpy resource (`self.counter`), we'll create a set of attributes in the `__init__` method to keep track of some relevant information that we would like to analyze later (**this is one (our first) way of logging some information without just printing it**). In particular:\n",
    "\n",
    "- `self.available`: This creates a dictionary that maps each movie to the number of available tickets.\n",
    "- `self.sold_out`: This creates a dictionary that maps each movie to a `simpy.Event`. The event will be triggered when the movie is sold out.\n",
    "- `self.when_sold_out`: This creates a dictionary that maps each movie to the time when it was sold out. Initially, this is `None` for all movies.\n",
    "- `self.num_renegers`: This creates a dictionary that maps each movie to the number of customers who left without buying a ticket because the movie was sold out (the *renegers*).\n",
    "\n",
    "**Note 1:** Check the following references if you're new to python data structures. We'll mostly use [lists](https://www.geeksforgeeks.org/python-lists/), [dictionaries](https://www.geeksforgeeks.org/python-dictionary/) and [(pandas) dataframes](https://www.geeksforgeeks.org/python-pandas-dataframe/). Keep in mind that there are more types like sets, tuples, (numpy) arrays, etc. [Here](https://www.geeksforgeeks.org/python-data-structures/) is more info if you want to dive deeper. \n",
    "\n",
    "**Note 2:** We are using [python comprehensions](https://www.netguru.com/blog/python-list-comprehension-dictionary) to create the logging attributes. This is a shorthand for a loop such that `x = {movie: tickets for movie in self.movies}` is equivalent to:\n",
    "\n",
    "```\n",
    "x = {}\n",
    "for movie in self.movies:\n",
    "    x[movie] = tickets\n",
    "```\n",
    "\n",
    "\n",
    "\n",
    "\n"
   ]
  },
  {
   "cell_type": "code",
   "execution_count": null,
   "metadata": {},
   "outputs": [],
   "source": [
    "class Theater:\n",
    "\n",
    "    def __init__(self, env, movies, sellout_threshold, tickets):\n",
    "        '''\n",
    "        Initialize the theater.\n",
    "\n",
    "        - env: the simulation environment\n",
    "        - movies: a list of movie names\n",
    "        - sellout_threshold: the number of tickets remaining at which a movie is considered sold out\n",
    "        - tickets: the number of tickets available for each movie\n",
    "        '''\n",
    "        \n",
    "        self.env = env\n",
    "        self.counter = simpy.Resource(self.env, capacity=1)\n",
    "        \n",
    "        self.movies = movies\n",
    "        self.sellout_threshold = sellout_threshold\n",
    "        \n",
    "        #\"logging\" attributes\n",
    "        self.available = {movie: tickets for movie in self.movies}\n",
    "        self.sold_out = {movie: self.env.event() for movie in self.movies}\n",
    "        self.when_sold_out = {movie: None for movie in self.movies}\n",
    "        self.num_renegers = {movie: 0 for movie in self.movies}\n",
    "        \n",
    "    def sell_tickets(self, movie, num_tickets):\n",
    "        '''\n",
    "        Process for selling tickets to a movie.\n",
    "\n",
    "        - movie: the name of the movie\n",
    "        - num_tickets: the number of tickets to sell\n",
    "        '''\n",
    "\n",
    "        # Buy tickets\n",
    "        self.available[movie] -= num_tickets\n",
    "        if self.available[movie] < self.sellout_threshold:\n",
    "            # Trigger the \"sold out\" event for the movie\n",
    "            self.sold_out[movie].succeed()\n",
    "            self.when_sold_out[movie] = self.env.now\n",
    "            self.available[movie] = 0\n",
    "        \n",
    "        yield self.env.timeout(1)"
   ]
  },
  {
   "cell_type": "markdown",
   "metadata": {},
   "source": [
    "The `sell_tickets` method is the process supported by the `Theater` resource. This method simulates the process of selling tickets for a movie. The method takes two parameters: `movie` (the name of the movie) and `num_tickets` (the number of tickets to sell).\n",
    "\n",
    "1. First, we decreases the number of available tickets for the movie: `self.available[movie] -= num_tickets` (equivalently: `self.available[movie] = self.available[movie] - num_tickets`).\n",
    "\n",
    "2. Then, we check if the number of available tickets for the movie is less than the sellout threshold. If so:\n",
    "    - `self.sold_out[movie].succeed()` triggers the \"sold out\" event for the movie.\n",
    "    - `self.when_sold_out[movie] = self.env.now` records the current simulation time as the time when the movie was sold out.\n",
    "    - `self.available[movie] = 0` sets the number of available tickets for the movie to 0 (i.e. no more available tickets for that movie)\n",
    "\n",
    "3. Lastly, this process takes 1 (determinstic) unit of time (`self.env.timeout(1)`)"
   ]
  },
  {
   "cell_type": "markdown",
   "metadata": {},
   "source": [
    "### Entity (Customer)"
   ]
  },
  {
   "cell_type": "markdown",
   "metadata": {},
   "source": [
    "We initialize the `Customer` class with the simpy environment (`self.env`) and the `Theater` object. We also store the chosen movie (`self.movie`) and the number of tickets to buy (`self.num_tickets`)\n",
    "\n",
    "Note that, unlike the previous examples, we now call the `.run()` method within the initialization of the instance. Both options are posible and in some cases we will prefer one over other (more on this in the next lecture!)."
   ]
  },
  {
   "cell_type": "code",
   "execution_count": null,
   "metadata": {},
   "outputs": [],
   "source": [
    "class Customer:\n",
    "\n",
    "    def __init__(self, env, theater):\n",
    "        '''\n",
    "        Initialize a customer entity.\n",
    "\n",
    "        - env: the simulation environment\n",
    "        - theater: the theater object\n",
    "        '''\n",
    "\n",
    "        self.env = env\n",
    "        self.movie = random.choice(theater.movies)\n",
    "        self.num_tickets = random.randint(1, 6)\n",
    "\n",
    "        self.env.process(self.run(theater))\n",
    "        \n",
    "    def discuss(self):\n",
    "        '''\n",
    "        Customer discusses with the cashier about the movie being sold out.\n",
    "        '''\n",
    "\n",
    "        yield self.env.timeout(0.5)\n",
    "\n",
    "    def run(self, theater):  \n",
    "        '''\n",
    "        Entity process for a customer buying tickets to a movie (flow)\n",
    "        \n",
    "        - theater: the theater object\n",
    "        '''\n",
    "\n",
    "        with theater.counter.request() as req:\n",
    "            \n",
    "            # Wait until it's our turn or until the movie is sold out\n",
    "            result = yield req | theater.sold_out[self.movie]\n",
    "\n",
    "            # Check if it's our turn or if movie is sold out\n",
    "            if req not in result:\n",
    "                theater.num_renegers[self.movie] += 1\n",
    "                return\n",
    "\n",
    "            # Check if enough tickets left.\n",
    "            if theater.available[self.movie] < self.num_tickets:\n",
    "                # Customer leaves after some discussion\n",
    "                yield self.env.process(self.discuss())\n",
    "                return\n",
    "\n",
    "            yield self.env.process(theater.sell_tickets(self.movie, self.num_tickets))"
   ]
  },
  {
   "cell_type": "markdown",
   "metadata": {},
   "source": [
    "The `run` method defines the flow of the customer through the theater.\n",
    "\n",
    "1. First, we request access to the simpy resource (`theater.counter.request()`). Recall that the simpy resource is stored in the `counter` attribute of the `Theater` class.\n",
    "\n",
    "2. Then `result = yield req | theater.sold_out[movie]` refers to the *Condition* event. Recall that `|` refers to a *logical or* which means that `result` will store the value of the event that succeeds (\"happens\") first.\n",
    "\n",
    "3. Since `result` will store the event that suceeds first, `req not in result` means that the `sold_out` suceeds first, therefore we add one to the *reneges* and `return` to end the flow of the entity.\n",
    "\n",
    "4. If `req` suceeds first, we will continue with the flow of the entity. However we have to check if there are enough tickets first: \n",
    "    - If not, the customer also leaves but after some discussion, which takes 0.5 (deterministic) unit of times. The `return` is again for ending the flow of the entity.\n",
    "    - If yes, then the `sell_tickets` process is yielded."
   ]
  },
  {
   "cell_type": "markdown",
   "metadata": {},
   "source": [
    "### Entity Generator"
   ]
  },
  {
   "cell_type": "markdown",
   "metadata": {},
   "source": [
    "The entity generation process is handled by `customer_arrivals`. You should be already familiar with this structure from the CarWash example (previous assignment)."
   ]
  },
  {
   "cell_type": "code",
   "execution_count": null,
   "metadata": {},
   "outputs": [],
   "source": [
    "def customer_arrivals(env, theater):\n",
    "    '''\n",
    "    Entity generator for customers arriving at the theater.\n",
    "\n",
    "    - env: the simulation environment\n",
    "    - theater: the theater object\n",
    "\n",
    "    '''\n",
    "    \n",
    "    while True:\n",
    "        yield env.timeout(random.expovariate(1 / 0.5))\n",
    "        Customer(env, theater)"
   ]
  },
  {
   "cell_type": "markdown",
   "metadata": {},
   "source": [
    "### Run Simulation"
   ]
  },
  {
   "cell_type": "code",
   "execution_count": null,
   "metadata": {},
   "outputs": [],
   "source": [
    "RANDOM_SEED = 42\n",
    "TICKETS = 50  # Number of tickets per movie\n",
    "SELLOUT_THRESHOLD = 2  # Fewer tickets than this is a sellout\n",
    "SIM_TIME = 120  # Simulate until\n",
    "\n",
    "# Setup and start the simulation\n",
    "print('Movie renege')\n",
    "print('Running Simulation...')\n",
    "random.seed(RANDOM_SEED)\n",
    "env = simpy.Environment()\n",
    "\n",
    "#define resources\n",
    "movies = ['Python Unchained', 'Kill Process', 'Pulp Implementation']\n",
    "theater = Theater(env, movies, SELLOUT_THRESHOLD, TICKETS)\n",
    "\n",
    "#define processes\n",
    "env.process(customer_arrivals(env, theater))\n",
    "\n",
    "# Execute\n",
    "env.run(until=SIM_TIME)\n",
    "print('... Done \\n')\n",
    "\n",
    "# Analysis/results\n",
    "for movie in movies:\n",
    "    sellout_time = theater.when_sold_out[movie]\n",
    "    sellout_time = sellout_time if sellout_time is not None else ''\n",
    "    num_renegers = theater.num_renegers[movie]\n",
    "    print(f'Movie: \"{movie}\"')\n",
    "    print(f'Sold out {sellout_time:.1f} minutes after ticket counter opening')\n",
    "    print(f'Number of people leaving due lack of tickets: {num_renegers}')\n",
    "    print('-' * 30)"
   ]
  },
  {
   "cell_type": "markdown",
   "metadata": {},
   "source": [
    "# Exercise / Tasks"
   ]
  },
  {
   "cell_type": "markdown",
   "metadata": {},
   "source": [
    "**Recall: Tasks are built on top of each other to progressively build the final solution**"
   ]
  },
  {
   "cell_type": "markdown",
   "metadata": {},
   "source": [
    "### Task 1:  Logging more *renegers*"
   ]
  },
  {
   "cell_type": "markdown",
   "metadata": {},
   "source": [
    "Note that the *renegers* we're logging are only the ones that leave the system because the movie was sold out. However we're still missing the ones that discussed with the cashier because the number of tickets they wanted was greater than the number of tickets available.\n",
    "\n",
    "**Task 1: Modify the `run` method of the `Customer` class to also account for this *renegers*.**\n",
    "\n",
    "**Note:** For now, we're not interested in differentiating the \"type\" of *renegers*. Therefore you can use the same `num_renegers` attribute to register all of them."
   ]
  },
  {
   "cell_type": "code",
   "execution_count": null,
   "metadata": {},
   "outputs": [],
   "source": [
    "class Customer:\n",
    "\n",
    "    def __init__(self, env, theater):\n",
    "        '''\n",
    "        Initialize a customer entity.\n",
    "\n",
    "        - env: the simulation environment\n",
    "        - theater: the theater object\n",
    "        '''\n",
    "\n",
    "        self.env = env\n",
    "        self.movie = random.choice(theater.movies)\n",
    "        self.num_tickets = random.randint(1, 6)\n",
    "\n",
    "        self.env.process(self.run(theater))\n",
    "        \n",
    "    def discuss(self):\n",
    "        '''\n",
    "        Customer discusses with the cashier about the movie being sold out.\n",
    "        '''\n",
    "\n",
    "        yield self.env.timeout(0.5)\n",
    "\n",
    "    def run(self, theater):  \n",
    "        '''\n",
    "        Entity process for a customer buying tickets to a movie (flow)\n",
    "        \n",
    "        - theater: the theater object\n",
    "        '''\n",
    "\n",
    "        with theater.counter.request() as req:\n",
    "            \n",
    "            # Wait until it's our turn or until the movie is sold out\n",
    "            result = yield req | theater.sold_out[self.movie]\n",
    "\n",
    "            # Check if it's our turn or if movie is sold out\n",
    "            if req not in result:\n",
    "                theater.num_renegers[self.movie] += 1\n",
    "                return\n",
    "\n",
    "            # Check if enough tickets left.\n",
    "            if theater.available[self.movie] < self.num_tickets:\n",
    "                # Customer leaves after some discussion\n",
    "                yield self.env.process(self.discuss())\n",
    "                return\n",
    "\n",
    "            yield self.env.process(theater.sell_tickets(self.movie, self.num_tickets))"
   ]
  },
  {
   "cell_type": "code",
   "execution_count": null,
   "metadata": {},
   "outputs": [],
   "source": [
    "#Leave this code chunk as is to check your changes\n",
    "\n",
    "RANDOM_SEED = 42\n",
    "TICKETS = 50  # Number of tickets per movie\n",
    "SELLOUT_THRESHOLD = 2  # Fewer tickets than this is a sellout\n",
    "SIM_TIME = 120  # Simulate until\n",
    "\n",
    "# Setup and start the simulation\n",
    "print('Movie renege')\n",
    "print('Running Simulation...')\n",
    "random.seed(RANDOM_SEED)\n",
    "env = simpy.Environment()\n",
    "\n",
    "#define resources\n",
    "movies = ['Python Unchained', 'Kill Process', 'Pulp Implementation']\n",
    "theater = Theater(env, movies, SELLOUT_THRESHOLD, TICKETS)\n",
    "\n",
    "#define processes\n",
    "env.process(customer_arrivals(env, theater))\n",
    "\n",
    "# Execute\n",
    "env.run(until=SIM_TIME)\n",
    "print('... Done \\n')\n",
    "\n",
    "# Analysis/results\n",
    "for movie in movies:\n",
    "    sellout_time = theater.when_sold_out[movie]\n",
    "    sellout_time = sellout_time if sellout_time is not None else ''\n",
    "    num_renegers = theater.num_renegers[movie]\n",
    "    print(f'Movie: \"{movie}\"')\n",
    "    print(f'Sold out {sellout_time:.1f} minutes after ticket counter opening')\n",
    "    print(f'Number of people leaving due lack of tickets: {num_renegers}')\n",
    "    print('-' * 30)"
   ]
  },
  {
   "cell_type": "markdown",
   "metadata": {},
   "source": [
    "### Task 2:  Logging lost sales (tickets)"
   ]
  },
  {
   "cell_type": "markdown",
   "metadata": {},
   "source": [
    "We have now logged the *renegers* correctly but we still don't know how many tickets we are losing due to customers leaving the system.\n",
    "\n",
    "**Task 2.1: Create a new attribute in the `Theater` class, `lost_tickets`, to record the number of lost tickets due *renegers*.**\n",
    "\n",
    "**Task 2.2: Modify the `run` method of the `Customer` class to record the lost tickets for each movie.**"
   ]
  },
  {
   "cell_type": "code",
   "execution_count": null,
   "metadata": {},
   "outputs": [],
   "source": [
    "class Theater:\n",
    "\n",
    "    def __init__(self, env, movies, sellout_threshold, tickets):\n",
    "        '''\n",
    "        Initialize the theater.\n",
    "\n",
    "        - env: the simulation environment\n",
    "        - movies: a list of movie names\n",
    "        - sellout_threshold: the number of tickets remaining at which a movie is considered sold out\n",
    "        - tickets: the number of tickets available for each movie\n",
    "        '''\n",
    "        \n",
    "        self.env = env\n",
    "        self.counter = simpy.Resource(self.env, capacity=1)\n",
    "        \n",
    "        self.movies = movies\n",
    "        self.sellout_threshold = sellout_threshold\n",
    "        \n",
    "        #\"logging\" attributes\n",
    "        self.available = {movie: tickets for movie in self.movies}\n",
    "        self.sold_out = {movie: self.env.event() for movie in self.movies}\n",
    "        self.when_sold_out = {movie: None for movie in self.movies}\n",
    "        self.num_renegers = {movie: 0 for movie in self.movies}\n",
    "        \n",
    "    def sell_tickets(self, movie, num_tickets):\n",
    "        '''\n",
    "        Process for selling tickets to a movie.\n",
    "\n",
    "        - movie: the name of the movie\n",
    "        - num_tickets: the number of tickets to sell\n",
    "        '''\n",
    "\n",
    "        # Buy tickets\n",
    "        self.available[movie] -= num_tickets\n",
    "        if self.available[movie] < self.sellout_threshold:\n",
    "            # Trigger the \"sold out\" event for the movie\n",
    "            self.sold_out[movie].succeed()\n",
    "            self.when_sold_out[movie] = self.env.now\n",
    "            self.available[movie] = 0\n",
    "        \n",
    "        yield self.env.timeout(1)"
   ]
  },
  {
   "cell_type": "code",
   "execution_count": null,
   "metadata": {},
   "outputs": [],
   "source": [
    "class Customer:\n",
    "\n",
    "    def __init__(self, env, theater):\n",
    "        '''\n",
    "        Initialize a customer entity.\n",
    "\n",
    "        - env: the simulation environment\n",
    "        - theater: the theater object\n",
    "        '''\n",
    "\n",
    "        self.env = env\n",
    "        self.movie = random.choice(theater.movies)\n",
    "        self.num_tickets = random.randint(1, 6)\n",
    "\n",
    "        self.env.process(self.run(theater))\n",
    "        \n",
    "    def discuss(self):\n",
    "        '''\n",
    "        Customer discusses with the cashier about the movie being sold out.\n",
    "        '''\n",
    "\n",
    "        yield self.env.timeout(0.5)\n",
    "\n",
    "    def run(self, theater):  \n",
    "        '''\n",
    "        Entity process for a customer buying tickets to a movie (flow)\n",
    "        \n",
    "        - theater: the theater object\n",
    "        '''\n",
    "\n",
    "        with theater.counter.request() as req:\n",
    "            \n",
    "            # Wait until it's our turn or until the movie is sold out\n",
    "            result = yield req | theater.sold_out[self.movie]\n",
    "\n",
    "            # Check if it's our turn or if movie is sold out\n",
    "            if req not in result:\n",
    "                theater.num_renegers[self.movie] += 1\n",
    "                return\n",
    "\n",
    "            # Check if enough tickets left.\n",
    "            if theater.available[self.movie] < self.num_tickets:\n",
    "                # Customer leaves after some discussion\n",
    "                yield self.env.process(self.discuss())\n",
    "                return\n",
    "\n",
    "            yield self.env.process(theater.sell_tickets(self.movie, self.num_tickets))"
   ]
  },
  {
   "cell_type": "code",
   "execution_count": null,
   "metadata": {},
   "outputs": [],
   "source": [
    "#Leave this code chunk as is to check your changes\n",
    "\n",
    "RANDOM_SEED = 42\n",
    "TICKETS = 50  # Number of tickets per movie\n",
    "SELLOUT_THRESHOLD = 2  # Fewer tickets than this is a sellout\n",
    "SIM_TIME = 120  # Simulate until\n",
    "\n",
    "# Setup and start the simulation\n",
    "print('Movie renege')\n",
    "print('Running Simulation...')\n",
    "random.seed(RANDOM_SEED)\n",
    "env = simpy.Environment()\n",
    "\n",
    "#define resources\n",
    "movies = ['Python Unchained', 'Kill Process', 'Pulp Implementation']\n",
    "theater = Theater(env, movies, SELLOUT_THRESHOLD, TICKETS)\n",
    "\n",
    "#define processes\n",
    "env.process(customer_arrivals(env, theater))\n",
    "\n",
    "# Execute\n",
    "env.run(until=SIM_TIME)\n",
    "print('... Done \\n')\n",
    "\n",
    "# Analysis/results\n",
    "for movie in movies:\n",
    "    num_renegers = theater.num_renegers[movie]\n",
    "    lost_tickets = theater.lost_tickets[movie]\n",
    "    print(f'Movie: \"{movie}\"')\n",
    "    print(f'Number of people leaving due lack of tickets: {num_renegers}')\n",
    "    print(f'Number of tickets lost due due lack of tickets: {lost_tickets}')\n",
    "    print('-' * 30)        "
   ]
  },
  {
   "cell_type": "markdown",
   "metadata": {},
   "source": [
    "Answer the following questions:\n",
    "\n",
    "- How many tickets are lost for each movie?"
   ]
  },
  {
   "cell_type": "markdown",
   "metadata": {},
   "source": [
    "**Answer in this markdown chunk:**\n",
    "\n",
    "- *Your answer here*"
   ]
  },
  {
   "cell_type": "markdown",
   "metadata": {},
   "source": [
    "### Task 3: Impatient *renegers*"
   ]
  },
  {
   "cell_type": "markdown",
   "metadata": {},
   "source": [
    "What about if customers can also leave the queue for impatience as in the bank renege example? In this task you'll implement this but now we're also interested in logging this information.\n",
    "\n",
    "For modeling this, we'll assume the **patience follows a uniform distribution between 5 and 10 units of time**.\n",
    "\n",
    "**Task 3.1: Create two new attributes in the `Theater` class, `num_renegers_impatience` and `lost_tickets_impatience`, to record the number of *renegers* and lost tickets due impatience, respectively.**\n",
    "\n",
    "**Task 3.2: Modify the `run` method of the `Customer` to implement customers leaving the queue due impatience. Use the attributes of Task 3.1. to log each time this happens.**\n",
    "\n",
    "**Hint:** Note that you need to add an *or* condition in the `result` variable an differentiate between *renegers* that leaves because tickets sold out and those who leave due impatience."
   ]
  },
  {
   "cell_type": "code",
   "execution_count": null,
   "metadata": {},
   "outputs": [],
   "source": [
    "class Theater:\n",
    "\n",
    "    def __init__(self, env, movies, sellout_threshold, tickets):\n",
    "        '''\n",
    "        Initialize the theater.\n",
    "\n",
    "        - env: the simulation environment\n",
    "        - movies: a list of movie names\n",
    "        - sellout_threshold: the number of tickets remaining at which a movie is considered sold out\n",
    "        - tickets: the number of tickets available for each movie\n",
    "        '''\n",
    "        \n",
    "        self.env = env\n",
    "        self.counter = simpy.Resource(self.env, capacity=1)\n",
    "        \n",
    "        self.movies = movies\n",
    "        self.sellout_threshold = sellout_threshold\n",
    "        \n",
    "        #\"logging\" attributes\n",
    "        self.available = {movie: tickets for movie in self.movies}\n",
    "        self.sold_out = {movie: self.env.event() for movie in self.movies}\n",
    "        self.when_sold_out = {movie: None for movie in self.movies}\n",
    "        self.num_renegers = {movie: 0 for movie in self.movies}\n",
    "        \n",
    "    def sell_tickets(self, movie, num_tickets):\n",
    "        '''\n",
    "        Process for selling tickets to a movie.\n",
    "\n",
    "        - movie: the name of the movie\n",
    "        - num_tickets: the number of tickets to sell\n",
    "        '''\n",
    "\n",
    "        # Buy tickets\n",
    "        self.available[movie] -= num_tickets\n",
    "        if self.available[movie] < self.sellout_threshold:\n",
    "            # Trigger the \"sold out\" event for the movie\n",
    "            self.sold_out[movie].succeed()\n",
    "            self.when_sold_out[movie] = self.env.now\n",
    "            self.available[movie] = 0\n",
    "        \n",
    "        yield self.env.timeout(1)"
   ]
  },
  {
   "cell_type": "code",
   "execution_count": null,
   "metadata": {},
   "outputs": [],
   "source": [
    "class Customer:\n",
    "\n",
    "    def __init__(self, env, theater):\n",
    "        '''\n",
    "        Initialize a customer entity.\n",
    "\n",
    "        - env: the simulation environment\n",
    "        - theater: the theater object\n",
    "        '''\n",
    "\n",
    "        self.env = env\n",
    "        self.movie = random.choice(theater.movies)\n",
    "        self.num_tickets = random.randint(1, 6)\n",
    "\n",
    "        self.env.process(self.run(theater))\n",
    "        \n",
    "    def discuss(self):\n",
    "        '''\n",
    "        Customer discusses with the cashier about the movie being sold out.\n",
    "        '''\n",
    "\n",
    "        yield self.env.timeout(0.5)\n",
    "\n",
    "    def run(self, theater):  \n",
    "        '''\n",
    "        Entity process for a customer buying tickets to a movie (flow)\n",
    "        \n",
    "        - theater: the theater object\n",
    "        '''\n",
    "\n",
    "        with theater.counter.request() as req:\n",
    "            \n",
    "            # Wait until it's our turn or until the movie is sold out\n",
    "            result = yield req | theater.sold_out[self.movie]\n",
    "\n",
    "            # Check if it's our turn or if movie is sold out\n",
    "            if req not in result:\n",
    "                theater.num_renegers[self.movie] += 1\n",
    "                return\n",
    "\n",
    "            # Check if enough tickets left.\n",
    "            if theater.available[self.movie] < self.num_tickets:\n",
    "                # Customer leaves after some discussion\n",
    "                yield self.env.process(self.discuss())\n",
    "                return\n",
    "\n",
    "            yield self.env.process(theater.sell_tickets(self.movie, self.num_tickets))"
   ]
  },
  {
   "cell_type": "code",
   "execution_count": null,
   "metadata": {},
   "outputs": [],
   "source": [
    "#Leave this code chunk as is to check your changes\n",
    "\n",
    "RANDOM_SEED = 42\n",
    "TICKETS = 50  # Number of tickets per movie\n",
    "SELLOUT_THRESHOLD = 2  # Fewer tickets than this is a sellout\n",
    "SIM_TIME = 120  # Simulate until\n",
    "\n",
    "# Setup and start the simulation\n",
    "print('Movie renege')\n",
    "print('Running Simulation...')\n",
    "random.seed(RANDOM_SEED)\n",
    "env = simpy.Environment()\n",
    "\n",
    "#define resources\n",
    "movies = ['Python Unchained', 'Kill Process', 'Pulp Implementation']\n",
    "theater = Theater(env, movies, SELLOUT_THRESHOLD, TICKETS)\n",
    "\n",
    "#define processes\n",
    "env.process(customer_arrivals(env, theater))\n",
    "\n",
    "# Execute\n",
    "env.run(until=SIM_TIME)\n",
    "print('... Done \\n')\n",
    "\n",
    "# Analysis/results\n",
    "for movie in movies:\n",
    "    num_renegers = theater.num_renegers[movie]\n",
    "    lost_tickets = theater.lost_tickets[movie]\n",
    "    num_renegers_impatience = theater.num_renegers_impatience[movie]\n",
    "    lost_tickets_impatience = theater.lost_tickets_impatience[movie]\n",
    "\n",
    "    print(f'Movie: \"{movie}\"')\n",
    "    print(f'Number of people leaving due lack of tickets: {num_renegers}')\n",
    "    print(f'Number of tickets lost due due lack of tickets: {lost_tickets}')\n",
    "    print(f'Number of people leaving queue due impatience: {num_renegers_impatience}')\n",
    "    print(f'Number of tickets lost due impatience: {lost_tickets_impatience}')\n",
    "    print('-' * 30)        "
   ]
  },
  {
   "cell_type": "markdown",
   "metadata": {},
   "source": [
    "Answer the following questions:\n",
    "\n",
    "1. How many tickets are lost due lack of tickets and impatience for each movie?\n",
    "1. How is this compared when there are no impatience *renegers*? "
   ]
  },
  {
   "cell_type": "markdown",
   "metadata": {},
   "source": [
    "**Answer in this markdown chunk:**\n",
    "\n",
    "1. *Your answer here*\n",
    "1. *Your answer here*"
   ]
  },
  {
   "cell_type": "markdown",
   "metadata": {},
   "source": [
    "### Task 4: What if?"
   ]
  },
  {
   "cell_type": "markdown",
   "metadata": {},
   "source": [
    "Now we want to \"optimize\" our system in such a way that (hopefully) there are no tickets lost. For that we can only modify the number of tickets available (i.e. `TICKETS` parameter) which, due printing reasons, can only increase in multiples of 10 (50, 60, 70, etc.)\n",
    "\n",
    "**Task 4: Find the minimum number of tickets available needed to ensure that no tickets are lost**.\n",
    "\n",
    "**Note:** Assume the other parameters to be the same as before (i.e. `RANDOM_SEED = 42`, `SELLOUT_THRESHOLD = 2`, and `SIM_TIME = 120`)"
   ]
  },
  {
   "cell_type": "code",
   "execution_count": null,
   "metadata": {},
   "outputs": [],
   "source": [
    "#Change the TICKETS parameter to find the optimal number of tickets.\n",
    "\n",
    "RANDOM_SEED = 42\n",
    "TICKETS = 50  # Number of tickets per movie\n",
    "SELLOUT_THRESHOLD = 2  # Fewer tickets than this is a sellout\n",
    "SIM_TIME = 120  # Simulate until\n",
    "\n",
    "# Setup and start the simulation\n",
    "print('Movie renege')\n",
    "print('Running Simulation...')\n",
    "random.seed(RANDOM_SEED)\n",
    "env = simpy.Environment()\n",
    "\n",
    "#define resources\n",
    "movies = ['Python Unchained', 'Kill Process', 'Pulp Implementation']\n",
    "theater = Theater(env, movies, SELLOUT_THRESHOLD, TICKETS)\n",
    "\n",
    "#define processes\n",
    "env.process(customer_arrivals(env, theater))\n",
    "\n",
    "# Execute\n",
    "env.run(until=SIM_TIME)\n",
    "print('... Done \\n')\n",
    "\n",
    "# Analysis/results\n",
    "for movie in movies:\n",
    "    num_renegers = theater.num_renegers[movie]\n",
    "    lost_tickets = theater.lost_tickets[movie]\n",
    "    num_renegers_impatience = theater.num_renegers_impatience[movie]\n",
    "    lost_tickets_impatience = theater.lost_tickets_impatience[movie]\n",
    "\n",
    "    print(f'Movie: \"{movie}\"')\n",
    "    print(f'Number of people leaving due lack of tickets: {num_renegers}')\n",
    "    print(f'Number of tickets lost due due lack of tickets: {lost_tickets}')\n",
    "    print(f'Number of people leaving queue due impatience: {num_renegers_impatience}')\n",
    "    print(f'Number of tickets lost due impatience: {lost_tickets_impatience}')\n",
    "    print('-' * 30)        "
   ]
  },
  {
   "cell_type": "markdown",
   "metadata": {},
   "source": [
    "Answer the following questions:\n",
    "\n",
    "1. Is it possible to reduce the number of *renengers* (and tickets sold) due lack of tickets to zero (i.e. `lost_tickets = 0`)?, if so which is the minimum number of tickets available (i.e. `TICKETS` parameter) needed to ensure this? If no, why?\n",
    "\n",
    "1. Is it possible to reduce the number of *renengers* (and tickets sold) due impatience to zero (i.e. `lost_tickets_impatience = 0`)?, if so which is the minimum number of tickets available (i.e. `TICKETS` parameter) needed to ensure this? If no, why?"
   ]
  },
  {
   "cell_type": "markdown",
   "metadata": {},
   "source": [
    "**Answer in this markdown chunk:**\n",
    "\n",
    "1. *Your answer here*\n",
    "\n",
    "1. *Your answer here*"
   ]
  },
  {
   "cell_type": "markdown",
   "metadata": {},
   "source": [
    "### Task 5: Going beyond! (Optional)"
   ]
  },
  {
   "cell_type": "markdown",
   "metadata": {},
   "source": [
    "This part is optional and just for fun =) \n",
    "\n",
    "**It won't be taken into account in the grading process of this assingment** and its sole purpose is to challenge yourself and have fun. \n",
    "\n",
    "Don't worry if you can't complete it, we will cover this topics in the upcoming lectures/exercises. Try your best!"
   ]
  },
  {
   "cell_type": "markdown",
   "metadata": {},
   "source": [
    "#### 5.1. Optional Task 1"
   ]
  },
  {
   "cell_type": "markdown",
   "metadata": {},
   "source": [
    "When chosing among alternatives (like movies), a common use case is to have different preferences for the alternatives. We model this with a probability distribution among alternatives.\n",
    "\n",
    "Let's assume that our movies have different preferences. In particular:\n",
    "\n",
    "- Python Unchained: 50%\n",
    "- Kill Process: 30%\n",
    "- Pulp Implementation: 20%\n",
    "\n",
    "**Optional Task 1: Implement movie preferences**\n",
    "\n",
    "**Hint:** The `random.choice` function only supports a uniform distribution over alternatives. However, we can use the `np.random.choice` function to support non-uniform distributions (through the `p` parameter). Check the following [reference](https://numpy.org/doc/stable/reference/random/generated/numpy.random.choice.html) for some examples.\n",
    "\n",
    "**Note:** we have already imported numpy for you (`import numpy as np`) and we've also set the seed with `np.random.seed(RANDOM_SEED)`."
   ]
  },
  {
   "cell_type": "code",
   "execution_count": null,
   "metadata": {},
   "outputs": [],
   "source": [
    "import numpy as np"
   ]
  },
  {
   "cell_type": "code",
   "execution_count": null,
   "metadata": {},
   "outputs": [],
   "source": [
    "class Customer:\n",
    "\n",
    "    def __init__(self, env, theater):\n",
    "        '''\n",
    "        Initialize a customer entity.\n",
    "\n",
    "        - env: the simulation environment\n",
    "        - theater: the theater object\n",
    "        '''\n",
    "\n",
    "        self.env = env\n",
    "        self.movie = random.choice(theater.movies)\n",
    "        self.num_tickets = random.randint(1, 6)\n",
    "\n",
    "        self.env.process(self.run(theater))\n",
    "        \n",
    "    def discuss(self):\n",
    "        '''\n",
    "        Customer discusses with the cashier about the movie being sold out.\n",
    "        '''\n",
    "\n",
    "        yield self.env.timeout(0.5)\n",
    "\n",
    "    def run(self, theater):  \n",
    "        '''\n",
    "        Entity process for a customer buying tickets to a movie (flow)\n",
    "        \n",
    "        - theater: the theater object\n",
    "        '''\n",
    "\n",
    "        with theater.counter.request() as req:\n",
    "            \n",
    "            # Wait until it's our turn or until the movie is sold out\n",
    "            result = yield req | theater.sold_out[self.movie]\n",
    "\n",
    "            # Check if it's our turn or if movie is sold out\n",
    "            if req not in result:\n",
    "                theater.num_renegers[self.movie] += 1\n",
    "                return\n",
    "\n",
    "            # Check if enough tickets left.\n",
    "            if theater.available[self.movie] < self.num_tickets:\n",
    "                # Customer leaves after some discussion\n",
    "                yield self.env.process(self.discuss())\n",
    "                return\n",
    "\n",
    "            yield self.env.process(theater.sell_tickets(self.movie, self.num_tickets))"
   ]
  },
  {
   "cell_type": "code",
   "execution_count": null,
   "metadata": {},
   "outputs": [],
   "source": [
    "RANDOM_SEED = 42\n",
    "TICKETS = 50  # Number of tickets per movie\n",
    "SELLOUT_THRESHOLD = 2  # Fewer tickets than this is a sellout\n",
    "SIM_TIME = 120  # Simulate until\n",
    "\n",
    "# Setup and start the simulation\n",
    "print('Movie renege')\n",
    "print('Running Simulation...')\n",
    "random.seed(RANDOM_SEED)\n",
    "np.random.seed(RANDOM_SEED)\n",
    "env = simpy.Environment()\n",
    "\n",
    "#define resources\n",
    "movies = ['Python Unchained', 'Kill Process', 'Pulp Implementation']\n",
    "theater = Theater(env, movies, SELLOUT_THRESHOLD, TICKETS)\n",
    "\n",
    "#define processes\n",
    "env.process(customer_arrivals(env, theater))\n",
    "\n",
    "# Execute\n",
    "env.run(until=SIM_TIME)\n",
    "print('... Done \\n')\n",
    "\n",
    "# Analysis/results\n",
    "for movie in movies:\n",
    "    num_renegers = theater.num_renegers[movie]\n",
    "    lost_tickets = theater.lost_tickets[movie]\n",
    "    num_renegers_impatience = theater.num_renegers_impatience[movie]\n",
    "    lost_tickets_impatience = theater.lost_tickets_impatience[movie]\n",
    "\n",
    "    print(f'Movie: \"{movie}\"')\n",
    "    print(f'Number of people leaving due lack of tickets: {num_renegers}')\n",
    "    print(f'Number of tickets lost due due lack of tickets: {lost_tickets}')\n",
    "    print(f'Number of people leaving queue due impatience: {num_renegers_impatience}')\n",
    "    print(f'Number of tickets lost due impatience: {lost_tickets_impatience}')\n",
    "    print('-' * 30)        "
   ]
  },
  {
   "cell_type": "markdown",
   "metadata": {},
   "source": [
    "#### 5.2. Optional Task 2"
   ]
  },
  {
   "cell_type": "markdown",
   "metadata": {},
   "source": [
    "With this new preferences, what if we could determine availability of tickets individually for each movie? How would the results change with those found in Task 4?\n",
    "\n",
    "**Optional Task 2: Implement different ticket availability for each movie and find the minimum number of tickets (for each movie) needed to ensure that no tickets are lost. Compare your results with those found in Task 4.**\n",
    "\n",
    "**Hint:** Use a dictionary to model the ticket availability for each movie. Something like: `TICKETS = {'Python Unchained': 50, 'Kill Process': 50, 'Pulp Implementation': 50}`\n",
    "\n",
    "**Note:** Assume again that the number of tickets can only increase in multiples of 10."
   ]
  },
  {
   "cell_type": "code",
   "execution_count": null,
   "metadata": {},
   "outputs": [],
   "source": [
    "class Theater:\n",
    "\n",
    "    def __init__(self, env, movies, sellout_threshold, tickets):\n",
    "        '''\n",
    "        Initialize the theater.\n",
    "\n",
    "        - env: the simulation environment\n",
    "        - movies: a list of movie names\n",
    "        - sellout_threshold: the number of tickets remaining at which a movie is considered sold out\n",
    "        - tickets: the number of tickets available for each movie\n",
    "        '''\n",
    "        \n",
    "        self.env = env\n",
    "        self.counter = simpy.Resource(self.env, capacity=1)\n",
    "        \n",
    "        self.movies = movies\n",
    "        self.sellout_threshold = sellout_threshold\n",
    "        \n",
    "        #\"logging\" attributes\n",
    "        self.available = {movie: tickets for movie in self.movies}\n",
    "        self.sold_out = {movie: self.env.event() for movie in self.movies}\n",
    "        self.when_sold_out = {movie: None for movie in self.movies}\n",
    "        self.num_renegers = {movie: 0 for movie in self.movies}\n",
    "        \n",
    "    def sell_tickets(self, movie, num_tickets):\n",
    "        '''\n",
    "        Process for selling tickets to a movie.\n",
    "\n",
    "        - movie: the name of the movie\n",
    "        - num_tickets: the number of tickets to sell\n",
    "        '''\n",
    "\n",
    "        # Buy tickets\n",
    "        self.available[movie] -= num_tickets\n",
    "        if self.available[movie] < self.sellout_threshold:\n",
    "            # Trigger the \"sold out\" event for the movie\n",
    "            self.sold_out[movie].succeed()\n",
    "            self.when_sold_out[movie] = self.env.now\n",
    "            self.available[movie] = 0\n",
    "        \n",
    "        yield self.env.timeout(1)"
   ]
  },
  {
   "cell_type": "code",
   "execution_count": null,
   "metadata": {},
   "outputs": [],
   "source": [
    "RANDOM_SEED = 42\n",
    "TICKETS = 50  # Number of tickets per movie\n",
    "SELLOUT_THRESHOLD = 2  # Fewer tickets than this is a sellout\n",
    "SIM_TIME = 120  # Simulate until\n",
    "\n",
    "# Setup and start the simulation\n",
    "print('Movie renege')\n",
    "print('Running Simulation...')\n",
    "random.seed(RANDOM_SEED)\n",
    "np.random.seed(RANDOM_SEED)\n",
    "env = simpy.Environment()\n",
    "\n",
    "#define resources\n",
    "movies = ['Python Unchained', 'Kill Process', 'Pulp Implementation']\n",
    "theater = Theater(env, movies, SELLOUT_THRESHOLD, TICKETS)\n",
    "\n",
    "#define processes\n",
    "env.process(customer_arrivals(env, theater))\n",
    "\n",
    "# Execute\n",
    "env.run(until=SIM_TIME)\n",
    "print('... Done \\n')\n",
    "\n",
    "# Analysis/results\n",
    "for movie in movies:\n",
    "    num_renegers = theater.num_renegers[movie]\n",
    "    lost_tickets = theater.lost_tickets[movie]\n",
    "    num_renegers_impatience = theater.num_renegers_impatience[movie]\n",
    "    lost_tickets_impatience = theater.lost_tickets_impatience[movie]\n",
    "\n",
    "    print(f'Movie: \"{movie}\"')\n",
    "    print(f'Number of people leaving due lack of tickets: {num_renegers}')\n",
    "    print(f'Number of tickets lost due due lack of tickets: {lost_tickets}')\n",
    "    print(f'Number of people leaving queue due impatience: {num_renegers_impatience}')\n",
    "    print(f'Number of tickets lost due impatience: {lost_tickets_impatience}')\n",
    "    print('-' * 30)              "
   ]
  },
  {
   "cell_type": "markdown",
   "metadata": {},
   "source": [
    "Answer the following questions:\n",
    "\n",
    "- What can you say about this change? How is this compared with the results found in Task 4? "
   ]
  },
  {
   "cell_type": "markdown",
   "metadata": {},
   "source": [
    "**Answer in this markdown chunk:**\n",
    "\n",
    "- *Your answer here*"
   ]
  }
 ],
 "metadata": {
  "kernelspec": {
   "display_name": "env",
   "language": "python",
   "name": "python3"
  },
  "language_info": {
   "codemirror_mode": {
    "name": "ipython",
    "version": 3
   },
   "file_extension": ".py",
   "mimetype": "text/x-python",
   "name": "python",
   "nbconvert_exporter": "python",
   "pygments_lexer": "ipython3",
   "version": "3.9.13"
  }
 },
 "nbformat": 4,
 "nbformat_minor": 2
}
